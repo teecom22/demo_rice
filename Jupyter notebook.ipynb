{
 "cells": [
  {
   "cell_type": "markdown",
   "id": "43dc4245-44b1-4aa3-8a23-fef99af328fd",
   "metadata": {},
   "source": [
    "# My Jupyter Notebook on IBM Watson Studio"
   ]
  },
  {
   "cell_type": "markdown",
   "id": "09b36c3a-8320-41a4-8bbc-2b2903f47dea",
   "metadata": {},
   "source": [
    "**Tirzah Commey**"
   ]
  },
  {
   "cell_type": "markdown",
   "id": "3515e341-5de3-450f-a7ac-3170090f1b29",
   "metadata": {},
   "source": [
    "*My interest in data science is primarily because I want to contribute to making the world a better place*"
   ]
  },
  {
   "cell_type": "markdown",
   "id": "b00924d5-4e6f-41e5-8072-ac8babb91b2b",
   "metadata": {},
   "source": [
    "### I want to add 20 by 4"
   ]
  },
  {
   "cell_type": "markdown",
   "id": "2dce3b10-5c6b-465c-bdf7-9362d20ebdc8",
   "metadata": {},
   "source": [
    "$\\sum (20 + 4)$"
   ]
  },
  {
   "cell_type": "markdown",
   "id": "9ba54cc7-0717-4b8b-b4cb-a759eef1abc6",
   "metadata": {},
   "source": [
    "* **bulleted list**\n",
    "*******\n",
    "<img src=\"http://path/to/img.jpg\" alt=\"alt text\" title=\"Title\" />"
   ]
  },
  {
   "cell_type": "code",
   "execution_count": null,
   "id": "6b3b6be2-dd78-4038-af4e-8698f67c5670",
   "metadata": {},
   "outputs": [],
   "source": []
  }
 ],
 "metadata": {
  "kernelspec": {
   "display_name": "Python",
   "language": "python",
   "name": "conda-env-python-py"
  },
  "language_info": {
   "codemirror_mode": {
    "name": "ipython",
    "version": 3
   },
   "file_extension": ".py",
   "mimetype": "text/x-python",
   "name": "python",
   "nbconvert_exporter": "python",
   "pygments_lexer": "ipython3",
   "version": "3.7.12"
  }
 },
 "nbformat": 4,
 "nbformat_minor": 5
}
